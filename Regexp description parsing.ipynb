{
 "cells": [
  {
   "cell_type": "code",
   "execution_count": 1,
   "metadata": {
    "collapsed": false
   },
   "outputs": [],
   "source": [
    "import pandas as pd\n",
    "import numpy as np\n",
    "\n",
    "import re"
   ]
  },
  {
   "cell_type": "code",
   "execution_count": 2,
   "metadata": {
    "collapsed": true
   },
   "outputs": [],
   "source": [
    "train_data = pd.read_csv(\"champ1_train.csv\", sep=',', encoding = \"UTF-8\")"
   ]
  },
  {
   "cell_type": "markdown",
   "metadata": {},
   "source": [
    "## Описание ##\n",
    "\n",
    "Регулярные выражения для выделения признаков:\n",
    "\n",
    "1. `_IS_PRKNG_` Парковка. Значения: \n",
    " - \"нет\", \n",
    " - \"городская парковка\", \n",
    " - \"выделенная парковка\".\n",
    " \n",
    " При выделении признака предполагаем, что:\n",
    "\n",
    " 1. Выделенная парка имеет большую ценность, чем городская.\n",
    " 2. Продавец благоразумен, т.е. при наличии выделенной парковки он упомянет это в описании, иначе просто опишет наличие парковки\n",
    "\n",
    " Таким образом, сначала все объявления где упоминается парковка -> обозначаем как 'городская парковка', далее проверяем упоминание про выделенную парковку и обновляем признак на 'выделенная парковка'. все остальные - 'нет'\n",
    "\n",
    "2. `_IS_WIN_` Наличие витринных окон. Значения: \n",
    " - 'нет', \n",
    " - 'да'.\n",
    "\n",
    "3. `_F1_H_` Высота потолков 1-го этажа\n",
    "\n",
    "4. `_LINE_`  Линия расположения по отношению к улице, проспекту, переулку ит.п, где располагается помещение. Значения: \n",
    " - 'первая линия', \n",
    " - 'первая линия в глубине', \n",
    " - 'внутри квартала'.\n",
    "\n",
    " Сейчас 'первая линия в глубине' == 'вторая линия'\n",
    " ЗАМЕЧАНИЕ: очень много пропусков\n",
    " \n",
    "5. `_FOOT_TRAF_` Пешеходный трафик. Значения:  \n",
    " - 'низкий',  \n",
    " - 'средний',  \n",
    " - 'высокий',  \n",
    " - 'очень высокий'.\n",
    "\n",
    " Политика такая же как с парковками(см.п1) - о высоком трафике хозяин сообщает в объявлении.\n",
    " Может быть, имеет смысл брать эти данные не из объявления, а с геолокации\n",
    "\n",
    "6. `_IS_SEP_ENT_` Наличие отдельного входа. Значения: \n",
    " - 'нет', \n",
    " - 'да'.\n",
    "7. `_IS_VENT_` Наличие и тп системы центральной вентиляции и кондиционирования. Значения: \n",
    " - 'сплит-системы',  \n",
    " - 'центральная вентиляция',  \n",
    " - 'центральные вентиляция и кондиционирования',  \n",
    " - 'нет'\n",
    " \n",
    "8. `_DECOR_` Уровень отделки. Значения:  \n",
    " - 'рабочее состояние',  \n",
    " - 'евроремонт',  \n",
    " - 'без отделки'.\n",
    " \n",
    "9. `_IS_COM_` Наличие коммуникаций. Значения:\n",
    " - 'все',  \n",
    " - 'имеются частично',  \n",
    " - 'отсутвуют'.\n",
    " \n",
    " Политика такая же как с парковками(см.п1) - о всех коммуникацияъ хозяин сообщает в объявлении."
   ]
  },
  {
   "cell_type": "markdown",
   "metadata": {},
   "source": [
    "## Шаблоны ##"
   ]
  },
  {
   "cell_type": "code",
   "execution_count": 3,
   "metadata": {
    "collapsed": false
   },
   "outputs": [],
   "source": [
    "patterns = {\n",
    "    '_IS_PRKNG_': {\n",
    "        u'выделенная парковка': ur'(выдел|своя|свое|собст|охран|персон|территор|подзем|огоро|личн)[\\w ]*п(а|о)рк(овк|инг|овоч)[: \\w]*',\n",
    "        u'городская парковка': ur'([\\w ]*п(а|о)рк(овк|инг|овоч)[: \\w]*)|([\\w ]*стоянк[: \\w]*)'\n",
    "    },\n",
    "    '_IS_WIN_': {\n",
    "        u'да': ur'(витраж|пан[ао]рамн)[\\w]*|витр[\\w]* (окн|осте|засте)[\\w]*'\n",
    "    },\n",
    "    '_F1_H_': {\n",
    "        u'number': ur'высот[ а-яА-Я]*[\\-\\:]*[ а-яА-Я]*[\\d]+([.,\\d]*)?([ ]*[мМ])?'\n",
    "    },\n",
    "    '_LINE_': {\n",
    "        u'первая линия': ur'((перв[\\w]+)|1) лин[\\w]+',        \n",
    "        u'первая линия в глубине': ur'((втор[\\w]+)|2) лин[\\w]+',\n",
    "        u'внутри квартала': ur'(в глубине|внутри) квартала'\n",
    "    },\n",
    "    '_FOOT_TRAF_': {\n",
    "        u'высокий': ur'трафик[\\W]'\n",
    "    },\n",
    "    '_IS_SEP_ENT_': {\n",
    "        u'да': ur'(отдел[\\w]* вход[ом|а]?[\\W])|(вход[ом|а]?\\W[ \\w]*отдельн[\\w]*)'\n",
    "    },\n",
    "#     '_IS_VENT_': {\n",
    "#         u'сплит-системы': ur'',\n",
    "#         u'центральная вентиляция': ur'',\n",
    "#         u'центральные вентиляция и кондиционирования': ur''\n",
    "#     },\n",
    "    '_DECOR_': { \n",
    "        u'евроремонт': ur'[\\w]+вроремонт[\\w]*',   \n",
    "        u'без отделки': ur'(без|черно)[\\w ]*отделк[\\w :]+',\n",
    "        u'рабочее состояние': ur'(отделк[\\w :]+)|([\\W]ремонт)'\n",
    "    },\n",
    "    '_IS_COM_': {\n",
    "        'все': ur'(все|центр)[\\w]* коммуника[\\w]*',\n",
    "        'имеются частично': ur'коммуника[\\w]*'\n",
    "    }\n",
    "}"
   ]
  },
  {
   "cell_type": "code",
   "execution_count": 4,
   "metadata": {
    "collapsed": true
   },
   "outputs": [],
   "source": [
    "def getNumber(strr):\n",
    "    p = re.compile(ur'[\\d]+([.,\\d]*)?([ ]*[mM])?', flags=re.UNICODE | re.IGNORECASE)\n",
    "    groups = list(p.finditer(strr))\n",
    "    return groups[-1].group() if len(groups) > 0 else strr"
   ]
  },
  {
   "cell_type": "code",
   "execution_count": 5,
   "metadata": {
    "collapsed": true
   },
   "outputs": [],
   "source": [
    "def finditer(desc, pattern_set):\n",
    "    res = np.nan\n",
    "#     print desc\n",
    "    for pattern in pattern_set:\n",
    "        p = re.compile(pattern_set[pattern], flags=re.UNICODE | re.IGNORECASE)\n",
    "        groups = list(p.finditer(desc))\n",
    "        if len(groups) > 0:\n",
    "            res = pattern if pattern != u'number' else getNumber(groups[-1].group())\n",
    "    return res"
   ]
  },
  {
   "cell_type": "markdown",
   "metadata": {},
   "source": [
    "## Создание атрибутов ##"
   ]
  },
  {
   "cell_type": "code",
   "execution_count": 10,
   "metadata": {
    "collapsed": false
   },
   "outputs": [
    {
     "name": "stdout",
     "output_type": "stream",
     "text": [
      "_IS_COM_\n"
     ]
    },
    {
     "name": "stderr",
     "output_type": "stream",
     "text": [
      "C:\\Program Files\\Anaconda2\\lib\\site-packages\\ipykernel\\__main__.py:8: UnicodeWarning: Unicode unequal comparison failed to convert both arguments to Unicode - interpreting them as being unequal\n"
     ]
    },
    {
     "name": "stdout",
     "output_type": "stream",
     "text": [
      "_DECOR_\n",
      "_FOOT_TRAF_\n",
      "_LINE_\n",
      "_F1_H_\n",
      "_IS_WIN_\n",
      "_IS_PRKNG_\n",
      "_IS_SEP_ENT_\n"
     ]
    }
   ],
   "source": [
    "for pattern_set in patterns:\n",
    "    print pattern_set\n",
    "    train_data[pattern_set] = train_data['_DESC_'].apply(lambda x: finditer(x, patterns[pattern_set]))"
   ]
  },
  {
   "cell_type": "markdown",
   "metadata": {},
   "source": [
    "## Сохранение ##"
   ]
  },
  {
   "cell_type": "code",
   "execution_count": 13,
   "metadata": {
    "collapsed": false
   },
   "outputs": [],
   "source": [
    "train_data.to_csv(\"champ1_train_ext.csv\", sep=',', index=False, encoding = \"UTF-8\")"
   ]
  }
 ],
 "metadata": {
  "anaconda-cloud": {},
  "kernelspec": {
   "display_name": "Python [conda root]",
   "language": "python",
   "name": "conda-root-py"
  },
  "language_info": {
   "codemirror_mode": {
    "name": "ipython",
    "version": 2
   },
   "file_extension": ".py",
   "mimetype": "text/x-python",
   "name": "python",
   "nbconvert_exporter": "python",
   "pygments_lexer": "ipython2",
   "version": "2.7.12"
  }
 },
 "nbformat": 4,
 "nbformat_minor": 0
}
