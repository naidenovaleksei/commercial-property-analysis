{
 "cells": [
  {
   "cell_type": "code",
   "execution_count": 1,
   "metadata": {
    "collapsed": true
   },
   "outputs": [],
   "source": [
    "import pandas as pd\n",
    "import numpy as np\n",
    "import matplotlib.pyplot as plt\n",
    "\n",
    "import re\n",
    "\n",
    "%matplotlib inline "
   ]
  },
  {
   "cell_type": "code",
   "execution_count": 29,
   "metadata": {
    "collapsed": false
   },
   "outputs": [],
   "source": [
    "test_data = pd.read_csv(\"champ1_test_.csv\", \n",
    "                        sep=',', \n",
    "#                         decimal=',', \n",
    "#                         true_values=u'да',\n",
    "#                         false_values=u'нет',\n",
    "                        quoting=True, \n",
    "                        encoding = \"UTF-8\")"
   ]
  },
  {
   "cell_type": "markdown",
   "metadata": {},
   "source": [
    "# INFO #"
   ]
  },
  {
   "cell_type": "code",
   "execution_count": 30,
   "metadata": {
    "collapsed": false
   },
   "outputs": [
    {
     "name": "stdout",
     "output_type": "stream",
     "text": [
      "Размер данных:  (5404, 31)\n"
     ]
    }
   ],
   "source": [
    "print u'Размер данных: ', test_data.shape"
   ]
  },
  {
   "cell_type": "code",
   "execution_count": 31,
   "metadata": {
    "collapsed": false
   },
   "outputs": [
    {
     "name": "stdout",
     "output_type": "stream",
     "text": [
      "<class 'pandas.core.frame.DataFrame'>\n",
      "RangeIndex: 5404 entries, 0 to 5403\n",
      "Data columns (total 31 columns):\n",
      "_ID_            5404 non-null int64\n",
      "_CITY_          5404 non-null object\n",
      "_ADRS_          5402 non-null object\n",
      "_OBJ_TYPE_      5404 non-null object\n",
      "_TTL_S_         5404 non-null object\n",
      "_F1_S_          4927 non-null object\n",
      "_F1_U_          4364 non-null object\n",
      "_FC_S_          3463 non-null object\n",
      "_FC_U_          1027 non-null object\n",
      "_F0_S_          3600 non-null object\n",
      "_F0_U_          1170 non-null object\n",
      "_FA_S_          3367 non-null object\n",
      "_FA_U_          803 non-null object\n",
      "_F2_S_          3202 non-null object\n",
      "_F2_U_          999 non-null object\n",
      "_F3_S_          3081 non-null object\n",
      "_F3_U_          711 non-null object\n",
      "_AREA_          5388 non-null object\n",
      "_CHARACT_       5391 non-null object\n",
      "_LINE_          5397 non-null object\n",
      "_METRO_         4850 non-null object\n",
      "_ROUND_         5396 non-null object\n",
      "_FOOT_TRAF_     5395 non-null object\n",
      "_IS_PRKNG_      5401 non-null object\n",
      "_IS_WIN_        5404 non-null object\n",
      "_IS_SEP_ENT_    5401 non-null object\n",
      "_IS_VENT_       5391 non-null object\n",
      "_DECOR_         5404 non-null object\n",
      "_IS_COM_        5404 non-null object\n",
      "_F1_H_          4593 non-null object\n",
      "_DATE_          5403 non-null object\n",
      "dtypes: int64(1), object(30)\n",
      "memory usage: 1.3+ MB\n"
     ]
    }
   ],
   "source": [
    "test_data.info()"
   ]
  },
  {
   "cell_type": "code",
   "execution_count": 32,
   "metadata": {
    "collapsed": false,
    "scrolled": false
   },
   "outputs": [
    {
     "data": {
      "text/html": [
       "<div>\n",
       "<table border=\"1\" class=\"dataframe\">\n",
       "  <thead>\n",
       "    <tr style=\"text-align: right;\">\n",
       "      <th></th>\n",
       "      <th>_ID_</th>\n",
       "      <th>_CITY_</th>\n",
       "      <th>_ADRS_</th>\n",
       "      <th>_OBJ_TYPE_</th>\n",
       "      <th>_TTL_S_</th>\n",
       "      <th>_F1_S_</th>\n",
       "      <th>_F1_U_</th>\n",
       "      <th>_FC_S_</th>\n",
       "      <th>_FC_U_</th>\n",
       "      <th>_F0_S_</th>\n",
       "      <th>...</th>\n",
       "      <th>_ROUND_</th>\n",
       "      <th>_FOOT_TRAF_</th>\n",
       "      <th>_IS_PRKNG_</th>\n",
       "      <th>_IS_WIN_</th>\n",
       "      <th>_IS_SEP_ENT_</th>\n",
       "      <th>_IS_VENT_</th>\n",
       "      <th>_DECOR_</th>\n",
       "      <th>_IS_COM_</th>\n",
       "      <th>_F1_H_</th>\n",
       "      <th>_DATE_</th>\n",
       "    </tr>\n",
       "  </thead>\n",
       "  <tbody>\n",
       "    <tr>\n",
       "      <th>0</th>\n",
       "      <td>0</td>\n",
       "      <td>г. Санкт-Петербург</td>\n",
       "      <td>1-я Красноармейская ул., д.8-10, лит.А</td>\n",
       "      <td>помещение</td>\n",
       "      <td>184,7</td>\n",
       "      <td>184,7</td>\n",
       "      <td>торговое</td>\n",
       "      <td>0</td>\n",
       "      <td>NaN</td>\n",
       "      <td>0</td>\n",
       "      <td>...</td>\n",
       "      <td>жилая застройка</td>\n",
       "      <td>очень высокий</td>\n",
       "      <td>городская парковка</td>\n",
       "      <td>да</td>\n",
       "      <td>да</td>\n",
       "      <td>центральная вентиляция</td>\n",
       "      <td>рабочее состояние</td>\n",
       "      <td>все</td>\n",
       "      <td>2,7</td>\n",
       "      <td>19.04.2016</td>\n",
       "    </tr>\n",
       "    <tr>\n",
       "      <th>1</th>\n",
       "      <td>1</td>\n",
       "      <td>г. Санкт-Петербург</td>\n",
       "      <td>пр. Просвещения, д. 54, лит. А</td>\n",
       "      <td>помещение</td>\n",
       "      <td>284,8</td>\n",
       "      <td>284,8</td>\n",
       "      <td>торговое</td>\n",
       "      <td>0</td>\n",
       "      <td>NaN</td>\n",
       "      <td>0</td>\n",
       "      <td>...</td>\n",
       "      <td>жилая застройка</td>\n",
       "      <td>низкий</td>\n",
       "      <td>нет</td>\n",
       "      <td>да</td>\n",
       "      <td>да</td>\n",
       "      <td>нет</td>\n",
       "      <td>рабочее состояние</td>\n",
       "      <td>все</td>\n",
       "      <td>3/3,1/2,95</td>\n",
       "      <td>06.04.2016</td>\n",
       "    </tr>\n",
       "    <tr>\n",
       "      <th>2</th>\n",
       "      <td>2</td>\n",
       "      <td>г. Санкт-Петербург</td>\n",
       "      <td>Кондратьевский, д. 51, корп. 1, лит. А</td>\n",
       "      <td>помещение</td>\n",
       "      <td>59,6</td>\n",
       "      <td>59,6</td>\n",
       "      <td>торговое</td>\n",
       "      <td>0</td>\n",
       "      <td>NaN</td>\n",
       "      <td>0</td>\n",
       "      <td>...</td>\n",
       "      <td>жилая застройка</td>\n",
       "      <td>средний</td>\n",
       "      <td>нет</td>\n",
       "      <td>да</td>\n",
       "      <td>да</td>\n",
       "      <td>нет</td>\n",
       "      <td>рабочее состояние</td>\n",
       "      <td>все</td>\n",
       "      <td>2,75</td>\n",
       "      <td>11.04.2016</td>\n",
       "    </tr>\n",
       "    <tr>\n",
       "      <th>3</th>\n",
       "      <td>3</td>\n",
       "      <td>г. Санкт-Петербург</td>\n",
       "      <td>ул. Лизы Чайкиной, д. 17, лит. А</td>\n",
       "      <td>помещение</td>\n",
       "      <td>186,1</td>\n",
       "      <td>90</td>\n",
       "      <td>торговое</td>\n",
       "      <td>0</td>\n",
       "      <td>NaN</td>\n",
       "      <td>96,1</td>\n",
       "      <td>...</td>\n",
       "      <td>жилая застройка</td>\n",
       "      <td>средний</td>\n",
       "      <td>нет</td>\n",
       "      <td>да</td>\n",
       "      <td>да</td>\n",
       "      <td>нет</td>\n",
       "      <td>рабочее состояние</td>\n",
       "      <td>все</td>\n",
       "      <td>1,65/3,65</td>\n",
       "      <td>11.04.2016</td>\n",
       "    </tr>\n",
       "    <tr>\n",
       "      <th>4</th>\n",
       "      <td>4</td>\n",
       "      <td>г. Санкт-Петербург</td>\n",
       "      <td>ул. Лизы Чайкиной, д. 18, лит. А</td>\n",
       "      <td>помещение</td>\n",
       "      <td>73,3</td>\n",
       "      <td>73,3</td>\n",
       "      <td>торговое</td>\n",
       "      <td>0</td>\n",
       "      <td>NaN</td>\n",
       "      <td>0</td>\n",
       "      <td>...</td>\n",
       "      <td>жилая застройка</td>\n",
       "      <td>средний</td>\n",
       "      <td>нет</td>\n",
       "      <td>нет</td>\n",
       "      <td>да</td>\n",
       "      <td>нет</td>\n",
       "      <td>рабочее состояние</td>\n",
       "      <td>все</td>\n",
       "      <td>4</td>\n",
       "      <td>11.04.2016</td>\n",
       "    </tr>\n",
       "  </tbody>\n",
       "</table>\n",
       "<p>5 rows × 31 columns</p>\n",
       "</div>"
      ],
      "text/plain": [
       "   _ID_              _CITY_                                   _ADRS_  \\\n",
       "0     0  г. Санкт-Петербург   1-я Красноармейская ул., д.8-10, лит.А   \n",
       "1     1  г. Санкт-Петербург           пр. Просвещения, д. 54, лит. А   \n",
       "2     2  г. Санкт-Петербург   Кондратьевский, д. 51, корп. 1, лит. А   \n",
       "3     3  г. Санкт-Петербург         ул. Лизы Чайкиной, д. 17, лит. А   \n",
       "4     4  г. Санкт-Петербург         ул. Лизы Чайкиной, д. 18, лит. А   \n",
       "\n",
       "  _OBJ_TYPE_ _TTL_S_ _F1_S_    _F1_U_ _FC_S_ _FC_U_ _F0_S_     ...      \\\n",
       "0  помещение   184,7  184,7  торговое      0    NaN      0     ...       \n",
       "1  помещение   284,8  284,8  торговое      0    NaN      0     ...       \n",
       "2  помещение    59,6   59,6  торговое      0    NaN      0     ...       \n",
       "3  помещение   186,1     90  торговое      0    NaN   96,1     ...       \n",
       "4  помещение    73,3   73,3  торговое      0    NaN      0     ...       \n",
       "\n",
       "           _ROUND_    _FOOT_TRAF_          _IS_PRKNG_ _IS_WIN_ _IS_SEP_ENT_  \\\n",
       "0  жилая застройка  очень высокий  городская парковка       да           да   \n",
       "1  жилая застройка         низкий                 нет       да           да   \n",
       "2  жилая застройка        средний                 нет       да           да   \n",
       "3  жилая застройка        средний                 нет       да           да   \n",
       "4  жилая застройка        средний                 нет      нет           да   \n",
       "\n",
       "                _IS_VENT_            _DECOR_ _IS_COM_      _F1_H_      _DATE_  \n",
       "0  центральная вентиляция  рабочее состояние      все         2,7  19.04.2016  \n",
       "1                     нет  рабочее состояние      все  3/3,1/2,95  06.04.2016  \n",
       "2                     нет  рабочее состояние      все        2,75  11.04.2016  \n",
       "3                     нет  рабочее состояние      все   1,65/3,65  11.04.2016  \n",
       "4                     нет  рабочее состояние      все           4  11.04.2016  \n",
       "\n",
       "[5 rows x 31 columns]"
      ]
     },
     "execution_count": 32,
     "metadata": {},
     "output_type": "execute_result"
    }
   ],
   "source": [
    "test_data.head()"
   ]
  },
  {
   "cell_type": "code",
   "execution_count": 60,
   "metadata": {
    "collapsed": false
   },
   "outputs": [
    {
     "name": "stdout",
     "output_type": "stream",
     "text": [
      "Числовые признаки: [u'_TTL_S_', u'_F1_S_', u'_FC_S_', u'_F0_S_', u'_FA_S_', u'_F2_S_', u'_F3_S_', u'_F1_H_'] \n",
      "\n",
      "Дата-время: ['_DATE_'] \n",
      "\n",
      "Бинарные признаки: ['_IS_WIN_', '_IS_SEP_ENT_'] \n",
      "\n",
      "Категориальные признаки: [u'_IS_COM_', u'_F1_U_', u'_CITY_', u'_ADRS_', u'_ROUND_', u'_IS_PRKNG_', u'_IS_VENT_', u'_CHARACT_', u'_METRO_', u'_FA_U_', u'_DECOR_', u'_FOOT_TRAF_', u'_AREA_', u'_LINE_', u'_FC_U_', u'_OBJ_TYPE_', u'_F3_U_', u'_F2_U_', u'_F0_U_']\n"
     ]
    }
   ],
   "source": [
    "#unused_col\n",
    "unused_cols = ['_ID_']\n",
    "\n",
    "#numerical\n",
    "numerical_cols = []\n",
    "for col in test_data.columns:\n",
    "    if re.search('.*?_S_$', col) or re.search('.*?_H_$', col):   \n",
    "        numerical_cols.append(col)\n",
    "print \"Числовые признаки:\", numerical_cols, '\\n'\n",
    "\n",
    "#datetime\n",
    "datetime_cols = ['_DATE_']\n",
    "print \"Дата-время:\", datetime_cols, '\\n'\n",
    "\n",
    "#boolean\n",
    "boolean_cols = ['_IS_WIN_', '_IS_SEP_ENT_']\n",
    "print \"Бинарные признаки:\", boolean_cols, '\\n'\n",
    "\n",
    "#categorial\n",
    "categorial_cols = list(set(test_data.columns) - \n",
    "                       set(numerical_cols) - \n",
    "                       set(datetime_cols) - \n",
    "                       set(boolean_cols) -\n",
    "                       set(unused_cols))\n",
    "print \"Категориальные признаки:\", categorial_cols                                                                     "
   ]
  },
  {
   "cell_type": "markdown",
   "metadata": {},
   "source": [
    "# PREPROCESSING #"
   ]
  },
  {
   "cell_type": "markdown",
   "metadata": {},
   "source": [
    "Разбираем unicode-строки для выделения типа `float`, `datetime`, `boolean`"
   ]
  },
  {
   "cell_type": "code",
   "execution_count": 34,
   "metadata": {
    "collapsed": false,
    "scrolled": true
   },
   "outputs": [],
   "source": [
    "def as_float(x):\n",
    "    try:\n",
    "        return float(x.replace(',','.').encode('utf-8'))\n",
    "    except:\n",
    "        return np.nan\n",
    "    \n",
    "def as_datetime(x):\n",
    "    try:\n",
    "        return pd.to_datetime(x.encode('utf-8'))\n",
    "    except:\n",
    "        return np.nan\n",
    "    \n",
    "def as_boolean(x):\n",
    "    return x == u'да'"
   ]
  },
  {
   "cell_type": "code",
   "execution_count": 35,
   "metadata": {
    "collapsed": false
   },
   "outputs": [
    {
     "name": "stdout",
     "output_type": "stream",
     "text": [
      "_TTL_S_\n",
      "_F1_S_\n",
      "_FC_S_\n",
      "_F0_S_\n",
      "_FA_S_\n",
      "_F2_S_\n",
      "_F3_S_\n",
      "_F1_H_\n"
     ]
    }
   ],
   "source": [
    "for col in numerical_cols:\n",
    "    print col\n",
    "    test_data[col] = test_data[col].apply(as_float)"
   ]
  },
  {
   "cell_type": "code",
   "execution_count": 36,
   "metadata": {
    "collapsed": false
   },
   "outputs": [
    {
     "name": "stdout",
     "output_type": "stream",
     "text": [
      "_DATE_\n"
     ]
    }
   ],
   "source": [
    "for col in datetime_cols:\n",
    "    print col\n",
    "    test_data[col] = test_data[col].apply(as_datetime)"
   ]
  },
  {
   "cell_type": "code",
   "execution_count": 37,
   "metadata": {
    "collapsed": false,
    "scrolled": true
   },
   "outputs": [
    {
     "name": "stdout",
     "output_type": "stream",
     "text": [
      "_IS_WIN_\n",
      "_IS_SEP_ENT_\n"
     ]
    }
   ],
   "source": [
    "for col in boolean_cols:\n",
    "    print col\n",
    "    test_data[col] = test_data[col].apply(as_boolean)"
   ]
  },
  {
   "cell_type": "markdown",
   "metadata": {},
   "source": [
    "# DESCRIPTION #"
   ]
  },
  {
   "cell_type": "markdown",
   "metadata": {},
   "source": [
    "Обработанный набор данных"
   ]
  },
  {
   "cell_type": "code",
   "execution_count": 38,
   "metadata": {
    "collapsed": false
   },
   "outputs": [
    {
     "data": {
      "text/html": [
       "<div>\n",
       "<table border=\"1\" class=\"dataframe\">\n",
       "  <thead>\n",
       "    <tr style=\"text-align: right;\">\n",
       "      <th></th>\n",
       "      <th>count</th>\n",
       "      <th>mean</th>\n",
       "      <th>std</th>\n",
       "      <th>min</th>\n",
       "      <th>25%</th>\n",
       "      <th>50%</th>\n",
       "      <th>75%</th>\n",
       "      <th>max</th>\n",
       "    </tr>\n",
       "  </thead>\n",
       "  <tbody>\n",
       "    <tr>\n",
       "      <th>_ID_</th>\n",
       "      <td>5404.0</td>\n",
       "      <td>2701.500000</td>\n",
       "      <td>1560.144758</td>\n",
       "      <td>0.0</td>\n",
       "      <td>1350.75</td>\n",
       "      <td>2701.5</td>\n",
       "      <td>4052.25</td>\n",
       "      <td>5403.0</td>\n",
       "    </tr>\n",
       "    <tr>\n",
       "      <th>_TTL_S_</th>\n",
       "      <td>5403.0</td>\n",
       "      <td>301.381473</td>\n",
       "      <td>340.565616</td>\n",
       "      <td>1.5</td>\n",
       "      <td>NaN</td>\n",
       "      <td>NaN</td>\n",
       "      <td>NaN</td>\n",
       "      <td>3293.2</td>\n",
       "    </tr>\n",
       "    <tr>\n",
       "      <th>_F1_S_</th>\n",
       "      <td>4897.0</td>\n",
       "      <td>219.001315</td>\n",
       "      <td>263.763038</td>\n",
       "      <td>-0.0</td>\n",
       "      <td>NaN</td>\n",
       "      <td>NaN</td>\n",
       "      <td>NaN</td>\n",
       "      <td>3245.3</td>\n",
       "    </tr>\n",
       "    <tr>\n",
       "      <th>_FC_S_</th>\n",
       "      <td>3181.0</td>\n",
       "      <td>28.126008</td>\n",
       "      <td>111.657772</td>\n",
       "      <td>0.0</td>\n",
       "      <td>NaN</td>\n",
       "      <td>NaN</td>\n",
       "      <td>NaN</td>\n",
       "      <td>1458.3</td>\n",
       "    </tr>\n",
       "    <tr>\n",
       "      <th>_F0_S_</th>\n",
       "      <td>3320.0</td>\n",
       "      <td>40.187529</td>\n",
       "      <td>116.843624</td>\n",
       "      <td>0.0</td>\n",
       "      <td>NaN</td>\n",
       "      <td>NaN</td>\n",
       "      <td>NaN</td>\n",
       "      <td>1297.3</td>\n",
       "    </tr>\n",
       "    <tr>\n",
       "      <th>_FA_S_</th>\n",
       "      <td>3063.0</td>\n",
       "      <td>1.992132</td>\n",
       "      <td>29.886259</td>\n",
       "      <td>0.0</td>\n",
       "      <td>NaN</td>\n",
       "      <td>NaN</td>\n",
       "      <td>NaN</td>\n",
       "      <td>1179.9</td>\n",
       "    </tr>\n",
       "    <tr>\n",
       "      <th>_F2_S_</th>\n",
       "      <td>3064.0</td>\n",
       "      <td>65.418773</td>\n",
       "      <td>182.614512</td>\n",
       "      <td>0.0</td>\n",
       "      <td>NaN</td>\n",
       "      <td>NaN</td>\n",
       "      <td>NaN</td>\n",
       "      <td>3164.0</td>\n",
       "    </tr>\n",
       "    <tr>\n",
       "      <th>_F3_S_</th>\n",
       "      <td>2944.0</td>\n",
       "      <td>45.564912</td>\n",
       "      <td>179.259410</td>\n",
       "      <td>0.0</td>\n",
       "      <td>NaN</td>\n",
       "      <td>NaN</td>\n",
       "      <td>NaN</td>\n",
       "      <td>3293.2</td>\n",
       "    </tr>\n",
       "    <tr>\n",
       "      <th>_F1_H_</th>\n",
       "      <td>3961.0</td>\n",
       "      <td>3.076973</td>\n",
       "      <td>0.781018</td>\n",
       "      <td>-0.0</td>\n",
       "      <td>NaN</td>\n",
       "      <td>NaN</td>\n",
       "      <td>NaN</td>\n",
       "      <td>12.0</td>\n",
       "    </tr>\n",
       "  </tbody>\n",
       "</table>\n",
       "</div>"
      ],
      "text/plain": [
       "          count         mean          std  min      25%     50%      75%  \\\n",
       "_ID_     5404.0  2701.500000  1560.144758  0.0  1350.75  2701.5  4052.25   \n",
       "_TTL_S_  5403.0   301.381473   340.565616  1.5      NaN     NaN      NaN   \n",
       "_F1_S_   4897.0   219.001315   263.763038 -0.0      NaN     NaN      NaN   \n",
       "_FC_S_   3181.0    28.126008   111.657772  0.0      NaN     NaN      NaN   \n",
       "_F0_S_   3320.0    40.187529   116.843624  0.0      NaN     NaN      NaN   \n",
       "_FA_S_   3063.0     1.992132    29.886259  0.0      NaN     NaN      NaN   \n",
       "_F2_S_   3064.0    65.418773   182.614512  0.0      NaN     NaN      NaN   \n",
       "_F3_S_   2944.0    45.564912   179.259410  0.0      NaN     NaN      NaN   \n",
       "_F1_H_   3961.0     3.076973     0.781018 -0.0      NaN     NaN      NaN   \n",
       "\n",
       "            max  \n",
       "_ID_     5403.0  \n",
       "_TTL_S_  3293.2  \n",
       "_F1_S_   3245.3  \n",
       "_FC_S_   1458.3  \n",
       "_F0_S_   1297.3  \n",
       "_FA_S_   1179.9  \n",
       "_F2_S_   3164.0  \n",
       "_F3_S_   3293.2  \n",
       "_F1_H_     12.0  "
      ]
     },
     "execution_count": 38,
     "metadata": {},
     "output_type": "execute_result"
    }
   ],
   "source": [
    "test_data.describe().transpose()"
   ]
  },
  {
   "cell_type": "code",
   "execution_count": 39,
   "metadata": {
    "collapsed": false
   },
   "outputs": [
    {
     "data": {
      "text/html": [
       "<div>\n",
       "<table border=\"1\" class=\"dataframe\">\n",
       "  <thead>\n",
       "    <tr style=\"text-align: right;\">\n",
       "      <th></th>\n",
       "      <th>count</th>\n",
       "      <th>unique</th>\n",
       "      <th>top</th>\n",
       "      <th>freq</th>\n",
       "    </tr>\n",
       "  </thead>\n",
       "  <tbody>\n",
       "    <tr>\n",
       "      <th>_IS_WIN_</th>\n",
       "      <td>5404</td>\n",
       "      <td>2</td>\n",
       "      <td>False</td>\n",
       "      <td>4185</td>\n",
       "    </tr>\n",
       "    <tr>\n",
       "      <th>_IS_SEP_ENT_</th>\n",
       "      <td>5404</td>\n",
       "      <td>2</td>\n",
       "      <td>True</td>\n",
       "      <td>4427</td>\n",
       "    </tr>\n",
       "  </tbody>\n",
       "</table>\n",
       "</div>"
      ],
      "text/plain": [
       "             count unique    top  freq\n",
       "_IS_WIN_      5404      2  False  4185\n",
       "_IS_SEP_ENT_  5404      2   True  4427"
      ]
     },
     "execution_count": 39,
     "metadata": {},
     "output_type": "execute_result"
    }
   ],
   "source": [
    "test_data.describe(include=['bool']).transpose()"
   ]
  },
  {
   "cell_type": "code",
   "execution_count": 40,
   "metadata": {
    "collapsed": false
   },
   "outputs": [
    {
     "data": {
      "text/html": [
       "<div>\n",
       "<table border=\"1\" class=\"dataframe\">\n",
       "  <thead>\n",
       "    <tr style=\"text-align: right;\">\n",
       "      <th></th>\n",
       "      <th>count</th>\n",
       "      <th>unique</th>\n",
       "      <th>top</th>\n",
       "      <th>freq</th>\n",
       "    </tr>\n",
       "  </thead>\n",
       "  <tbody>\n",
       "    <tr>\n",
       "      <th>_CITY_</th>\n",
       "      <td>5404</td>\n",
       "      <td>943</td>\n",
       "      <td>Красноярск</td>\n",
       "      <td>233</td>\n",
       "    </tr>\n",
       "    <tr>\n",
       "      <th>_ADRS_</th>\n",
       "      <td>5402</td>\n",
       "      <td>4368</td>\n",
       "      <td>Калужская область, г. Обнинск, ЦНТ и ЭОУ \"Эврика\"</td>\n",
       "      <td>103</td>\n",
       "    </tr>\n",
       "    <tr>\n",
       "      <th>_OBJ_TYPE_</th>\n",
       "      <td>5404</td>\n",
       "      <td>9</td>\n",
       "      <td>помещение</td>\n",
       "      <td>4584</td>\n",
       "    </tr>\n",
       "    <tr>\n",
       "      <th>_F1_U_</th>\n",
       "      <td>4364</td>\n",
       "      <td>9</td>\n",
       "      <td>торговое</td>\n",
       "      <td>2997</td>\n",
       "    </tr>\n",
       "    <tr>\n",
       "      <th>_FC_U_</th>\n",
       "      <td>1027</td>\n",
       "      <td>9</td>\n",
       "      <td>-0</td>\n",
       "      <td>310</td>\n",
       "    </tr>\n",
       "    <tr>\n",
       "      <th>_F0_U_</th>\n",
       "      <td>1170</td>\n",
       "      <td>9</td>\n",
       "      <td>-0</td>\n",
       "      <td>329</td>\n",
       "    </tr>\n",
       "    <tr>\n",
       "      <th>_FA_U_</th>\n",
       "      <td>803</td>\n",
       "      <td>9</td>\n",
       "      <td>-0</td>\n",
       "      <td>450</td>\n",
       "    </tr>\n",
       "    <tr>\n",
       "      <th>_F2_U_</th>\n",
       "      <td>999</td>\n",
       "      <td>8</td>\n",
       "      <td>офисное</td>\n",
       "      <td>360</td>\n",
       "    </tr>\n",
       "    <tr>\n",
       "      <th>_F3_U_</th>\n",
       "      <td>711</td>\n",
       "      <td>7</td>\n",
       "      <td>офисное</td>\n",
       "      <td>363</td>\n",
       "    </tr>\n",
       "    <tr>\n",
       "      <th>_AREA_</th>\n",
       "      <td>5388</td>\n",
       "      <td>5</td>\n",
       "      <td>спальный район</td>\n",
       "      <td>2260</td>\n",
       "    </tr>\n",
       "    <tr>\n",
       "      <th>_CHARACT_</th>\n",
       "      <td>5391</td>\n",
       "      <td>6</td>\n",
       "      <td>основная улица</td>\n",
       "      <td>2397</td>\n",
       "    </tr>\n",
       "    <tr>\n",
       "      <th>_LINE_</th>\n",
       "      <td>5397</td>\n",
       "      <td>3</td>\n",
       "      <td>первая линия</td>\n",
       "      <td>3468</td>\n",
       "    </tr>\n",
       "    <tr>\n",
       "      <th>_METRO_</th>\n",
       "      <td>4850</td>\n",
       "      <td>8</td>\n",
       "      <td>неприменимо</td>\n",
       "      <td>3327</td>\n",
       "    </tr>\n",
       "    <tr>\n",
       "      <th>_ROUND_</th>\n",
       "      <td>5396</td>\n",
       "      <td>3</td>\n",
       "      <td>жилая застройка</td>\n",
       "      <td>4120</td>\n",
       "    </tr>\n",
       "    <tr>\n",
       "      <th>_FOOT_TRAF_</th>\n",
       "      <td>5395</td>\n",
       "      <td>4</td>\n",
       "      <td>средний</td>\n",
       "      <td>2227</td>\n",
       "    </tr>\n",
       "    <tr>\n",
       "      <th>_IS_PRKNG_</th>\n",
       "      <td>5401</td>\n",
       "      <td>6</td>\n",
       "      <td>да, городская парковка</td>\n",
       "      <td>2295</td>\n",
       "    </tr>\n",
       "    <tr>\n",
       "      <th>_IS_VENT_</th>\n",
       "      <td>5391</td>\n",
       "      <td>4</td>\n",
       "      <td>сплит-системы</td>\n",
       "      <td>1686</td>\n",
       "    </tr>\n",
       "    <tr>\n",
       "      <th>_DECOR_</th>\n",
       "      <td>5404</td>\n",
       "      <td>3</td>\n",
       "      <td>рабочее состояние</td>\n",
       "      <td>4311</td>\n",
       "    </tr>\n",
       "    <tr>\n",
       "      <th>_IS_COM_</th>\n",
       "      <td>5404</td>\n",
       "      <td>3</td>\n",
       "      <td>все</td>\n",
       "      <td>4922</td>\n",
       "    </tr>\n",
       "  </tbody>\n",
       "</table>\n",
       "</div>"
      ],
      "text/plain": [
       "            count unique                                                top  \\\n",
       "_CITY_       5404    943                                         Красноярск   \n",
       "_ADRS_       5402   4368  Калужская область, г. Обнинск, ЦНТ и ЭОУ \"Эврика\"   \n",
       "_OBJ_TYPE_   5404      9                                          помещение   \n",
       "_F1_U_       4364      9                                           торговое   \n",
       "_FC_U_       1027      9                                                 -0   \n",
       "_F0_U_       1170      9                                                 -0   \n",
       "_FA_U_        803      9                                                 -0   \n",
       "_F2_U_        999      8                                            офисное   \n",
       "_F3_U_        711      7                                            офисное   \n",
       "_AREA_       5388      5                                     спальный район   \n",
       "_CHARACT_    5391      6                                     основная улица   \n",
       "_LINE_       5397      3                                       первая линия   \n",
       "_METRO_      4850      8                                        неприменимо   \n",
       "_ROUND_      5396      3                                    жилая застройка   \n",
       "_FOOT_TRAF_  5395      4                                            средний   \n",
       "_IS_PRKNG_   5401      6                             да, городская парковка   \n",
       "_IS_VENT_    5391      4                                      сплит-системы   \n",
       "_DECOR_      5404      3                                  рабочее состояние   \n",
       "_IS_COM_     5404      3                                                все   \n",
       "\n",
       "             freq  \n",
       "_CITY_        233  \n",
       "_ADRS_        103  \n",
       "_OBJ_TYPE_   4584  \n",
       "_F1_U_       2997  \n",
       "_FC_U_        310  \n",
       "_F0_U_        329  \n",
       "_FA_U_        450  \n",
       "_F2_U_        360  \n",
       "_F3_U_        363  \n",
       "_AREA_       2260  \n",
       "_CHARACT_    2397  \n",
       "_LINE_       3468  \n",
       "_METRO_      3327  \n",
       "_ROUND_      4120  \n",
       "_FOOT_TRAF_  2227  \n",
       "_IS_PRKNG_   2295  \n",
       "_IS_VENT_    1686  \n",
       "_DECOR_      4311  \n",
       "_IS_COM_     4922  "
      ]
     },
     "execution_count": 40,
     "metadata": {},
     "output_type": "execute_result"
    }
   ],
   "source": [
    "test_data.describe(include=['object']).transpose()"
   ]
  },
  {
   "cell_type": "markdown",
   "metadata": {},
   "source": [
    "## HISTOGRAM ##"
   ]
  },
  {
   "cell_type": "code",
   "execution_count": 47,
   "metadata": {
    "collapsed": false
   },
   "outputs": [
    {
     "data": {
      "image/png": "[encoded data removed]",
      "text/plain": [
       "<matplotlib.figure.Figure at 0x9a2cb70>"
      ]
     },
     "metadata": {},
     "output_type": "display_data"
    }
   ],
   "source": [
    "plt.figure(figsize=(20,20))\n",
    "i = 1\n",
    "for col in numerical_cols:\n",
    "    plt.subplot(4,2,i)\n",
    "    i += 1\n",
    "    plt.hist(test_data[col].dropna(), bins=50)\n",
    "    plt.title(col)\n",
    "plt.show()"
   ]
  },
  {
   "cell_type": "markdown",
   "metadata": {},
   "source": [
    "## UNIQUE VALUES ##"
   ]
  },
  {
   "cell_type": "markdown",
   "metadata": {},
   "source": [
    "### Назначение площадей ###"
   ]
  },
  {
   "cell_type": "code",
   "execution_count": 15,
   "metadata": {
    "collapsed": false
   },
   "outputs": [
    {
     "data": {
      "text/plain": [
       "торговое               2997\n",
       "офисное                 931\n",
       "складское               253\n",
       "-0                      108\n",
       "техническое              55\n",
       "0                        17\n",
       "торгово-офисное           1\n",
       "торговое/складское        1\n",
       "торговое, складское       1\n",
       "Name: _F1_U_, dtype: int64"
      ]
     },
     "execution_count": 15,
     "metadata": {},
     "output_type": "execute_result"
    }
   ],
   "source": [
    "test_data[u'_F1_U_'].value_counts()"
   ]
  },
  {
   "cell_type": "code",
   "execution_count": 16,
   "metadata": {
    "collapsed": false
   },
   "outputs": [
    {
     "data": {
      "text/plain": [
       "-0             310\n",
       "торговое       226\n",
       "офисное        159\n",
       "0               97\n",
       "не указано      77\n",
       "Не указано      77\n",
       "нет данных      51\n",
       "складское       22\n",
       "техническое      8\n",
       "Name: _FC_U_, dtype: int64"
      ]
     },
     "execution_count": 16,
     "metadata": {},
     "output_type": "execute_result"
    }
   ],
   "source": [
    "test_data[u'_FC_U_'].value_counts()"
   ]
  },
  {
   "cell_type": "code",
   "execution_count": 17,
   "metadata": {
    "collapsed": false
   },
   "outputs": [
    {
     "data": {
      "text/plain": [
       "-0             329\n",
       "торговое       199\n",
       "складское      162\n",
       "техническое    108\n",
       "0               90\n",
       "офисное         84\n",
       "не указано      75\n",
       "Не указано      75\n",
       "нет данных      48\n",
       "Name: _F0_U_, dtype: int64"
      ]
     },
     "execution_count": 17,
     "metadata": {},
     "output_type": "execute_result"
    }
   ],
   "source": [
    "test_data[u'_F0_U_'].value_counts()"
   ]
  },
  {
   "cell_type": "code",
   "execution_count": 18,
   "metadata": {
    "collapsed": false
   },
   "outputs": [
    {
     "data": {
      "text/plain": [
       "-0             450\n",
       "0               99\n",
       "Не указано      82\n",
       "не указано      80\n",
       "нет данных      52\n",
       "торговое        21\n",
       "офисное         13\n",
       "техническое      5\n",
       "складское        1\n",
       "Name: _FA_U_, dtype: int64"
      ]
     },
     "execution_count": 18,
     "metadata": {},
     "output_type": "execute_result"
    }
   ],
   "source": [
    "test_data[u'_FA_U_'].value_counts()"
   ]
  },
  {
   "cell_type": "code",
   "execution_count": 19,
   "metadata": {
    "collapsed": false
   },
   "outputs": [
    {
     "data": {
      "text/plain": [
       "офисное              360\n",
       "торговое             273\n",
       "-0                   233\n",
       "0                     88\n",
       "складское             25\n",
       "техническое           17\n",
       "жилье                  2\n",
       "офисное/складское      1\n",
       "Name: _F2_U_, dtype: int64"
      ]
     },
     "execution_count": 19,
     "metadata": {},
     "output_type": "execute_result"
    }
   ],
   "source": [
    "test_data[u'_F2_U_'].value_counts()"
   ]
  },
  {
   "cell_type": "markdown",
   "metadata": {
    "collapsed": true
   },
   "source": [
    "## RESULTS ##"
   ]
  },
  {
   "cell_type": "markdown",
   "metadata": {},
   "source": [
    "Грязные данные. Требуется сильная предобработка, включая выделение смысловой части из адреса, назначения площадей"
   ]
  },
  {
   "cell_type": "code",
   "execution_count": null,
   "metadata": {
    "collapsed": true
   },
   "outputs": [],
   "source": []
  }
 ],
 "metadata": {
  "kernelspec": {
   "display_name": "Python [Root]",
   "language": "python",
   "name": "Python [Root]"
  },
  "language_info": {
   "codemirror_mode": {
    "name": "ipython",
    "version": 2
   },
   "file_extension": ".py",
   "mimetype": "text/x-python",
   "name": "python",
   "nbconvert_exporter": "python",
   "pygments_lexer": "ipython2",
   "version": "2.7.12"
  }
 },
 "nbformat": 4,
 "nbformat_minor": 0
}
